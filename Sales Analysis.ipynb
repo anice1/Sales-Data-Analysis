{
 "cells": [
  {
   "cell_type": "markdown",
   "id": "a529b9b3",
   "metadata": {},
   "source": [
    "## MODULE 2 - Assessment\n",
    "You have just been employed as Data analyst in one of the fast growing product\n",
    "manufacturing and distribution companies and your first welcoming task by MD is to\n",
    "create a report for an upcoming board meeting. You are to go through and analyze the\n",
    "sales data from 2015-2017 in order to generate the requested report.\n",
    "The report should capture the following;\n",
    "1. Revenue by region\n",
    "2. Revenue by sales Rep\n",
    "3. Revenue by products\n",
    "4. Sales trend\n",
    "5. Yearly changes in revenue\n",
    "**Highlight the following on the report:**\n",
    "* Top 3 products\n",
    "* The most productive sales Rep in the respective years.\n",
    "From your analysis, give 3 recommendations you think would help the company\n",
    "increase revenue in the following year.\n",
    "\n",
    "**Data Source:**<br>\n",
    "https://docs.google.com/spreadsheets/d/1SWCOO70Yv7PPvmlLyLQj1gCilg1XsSl0/edit?usp=sharing&ouid=102731908679789782364&rtpof=true&sd=true"
   ]
  },
  {
   "cell_type": "code",
   "execution_count": 1,
   "id": "0d71fa8f",
   "metadata": {},
   "outputs": [],
   "source": [
    "import pandas as pd\n",
    "import numpy as np\n",
    "import matplotlib.pyplot as plt\n",
    "import seaborn as sns"
   ]
  },
  {
   "cell_type": "code",
   "execution_count": 2,
   "id": "7670f038",
   "metadata": {},
   "outputs": [],
   "source": [
    "# Setup our visuals to use seaborn by default\n",
    "plt.style.use('seaborn')\n",
    "plt.rcParams[\"figure.figsize\"] = (11, 4)"
   ]
  },
  {
   "cell_type": "code",
   "execution_count": 3,
   "id": "16b4584d",
   "metadata": {},
   "outputs": [],
   "source": [
    "# Import our data using pandas\n",
    "df = pd.read_excel('MODULE 2-Assessment working data.xlsx')\n",
    "\n",
    "# Convert the sales excel file into .csv (Comma Separated Value)\n",
    "# This is only done because because I feel more comfortable working with Csv files to xlsx files\n",
    "df = df.to_csv('sales-data.csv', index=False)\n",
    "\n",
    "# Read the sales data\n",
    "df = pd.read_csv('sales-data.csv')"
   ]
  },
  {
   "cell_type": "code",
   "execution_count": 4,
   "id": "a4478ca5",
   "metadata": {},
   "outputs": [
    {
     "data": {
      "text/html": [
       "<div>\n",
       "<style scoped>\n",
       "    .dataframe tbody tr th:only-of-type {\n",
       "        vertical-align: middle;\n",
       "    }\n",
       "\n",
       "    .dataframe tbody tr th {\n",
       "        vertical-align: top;\n",
       "    }\n",
       "\n",
       "    .dataframe thead th {\n",
       "        text-align: right;\n",
       "    }\n",
       "</style>\n",
       "<table border=\"1\" class=\"dataframe\">\n",
       "  <thead>\n",
       "    <tr style=\"text-align: right;\">\n",
       "      <th></th>\n",
       "      <th>Date</th>\n",
       "      <th>SalesRep</th>\n",
       "      <th>Region</th>\n",
       "      <th>Product</th>\n",
       "      <th>Color</th>\n",
       "      <th>Units</th>\n",
       "      <th>Revenue</th>\n",
       "    </tr>\n",
       "  </thead>\n",
       "  <tbody>\n",
       "    <tr>\n",
       "      <th>0</th>\n",
       "      <td>2015-11-06</td>\n",
       "      <td>Julie</td>\n",
       "      <td>East</td>\n",
       "      <td>Sunshine</td>\n",
       "      <td>Blue</td>\n",
       "      <td>4</td>\n",
       "      <td>78.8</td>\n",
       "    </tr>\n",
       "    <tr>\n",
       "      <th>1</th>\n",
       "      <td>2015-11-07</td>\n",
       "      <td>Adam</td>\n",
       "      <td>West</td>\n",
       "      <td>Bellen</td>\n",
       "      <td>Clear</td>\n",
       "      <td>4</td>\n",
       "      <td>123.0</td>\n",
       "    </tr>\n",
       "    <tr>\n",
       "      <th>2</th>\n",
       "      <td>2015-11-07</td>\n",
       "      <td>Julie</td>\n",
       "      <td>East</td>\n",
       "      <td>Aspen</td>\n",
       "      <td>Clear</td>\n",
       "      <td>1</td>\n",
       "      <td>26.0</td>\n",
       "    </tr>\n",
       "    <tr>\n",
       "      <th>3</th>\n",
       "      <td>2015-11-07</td>\n",
       "      <td>Nabil</td>\n",
       "      <td>South</td>\n",
       "      <td>Quad</td>\n",
       "      <td>Clear</td>\n",
       "      <td>2</td>\n",
       "      <td>69.0</td>\n",
       "    </tr>\n",
       "    <tr>\n",
       "      <th>4</th>\n",
       "      <td>2015-11-07</td>\n",
       "      <td>Julie</td>\n",
       "      <td>South</td>\n",
       "      <td>Aspen</td>\n",
       "      <td>Blue</td>\n",
       "      <td>2</td>\n",
       "      <td>51.0</td>\n",
       "    </tr>\n",
       "  </tbody>\n",
       "</table>\n",
       "</div>"
      ],
      "text/plain": [
       "         Date SalesRep Region   Product  Color  Units  Revenue\n",
       "0  2015-11-06    Julie   East  Sunshine   Blue      4     78.8\n",
       "1  2015-11-07     Adam   West    Bellen  Clear      4    123.0\n",
       "2  2015-11-07    Julie   East     Aspen  Clear      1     26.0\n",
       "3  2015-11-07    Nabil  South      Quad  Clear      2     69.0\n",
       "4  2015-11-07    Julie  South     Aspen   Blue      2     51.0"
      ]
     },
     "execution_count": 4,
     "metadata": {},
     "output_type": "execute_result"
    }
   ],
   "source": [
    "df.head()"
   ]
  },
  {
   "cell_type": "code",
   "execution_count": 5,
   "id": "01532efe",
   "metadata": {},
   "outputs": [
    {
     "data": {
      "text/html": [
       "<div>\n",
       "<style scoped>\n",
       "    .dataframe tbody tr th:only-of-type {\n",
       "        vertical-align: middle;\n",
       "    }\n",
       "\n",
       "    .dataframe tbody tr th {\n",
       "        vertical-align: top;\n",
       "    }\n",
       "\n",
       "    .dataframe thead th {\n",
       "        text-align: right;\n",
       "    }\n",
       "</style>\n",
       "<table border=\"1\" class=\"dataframe\">\n",
       "  <thead>\n",
       "    <tr style=\"text-align: right;\">\n",
       "      <th></th>\n",
       "      <th>Date</th>\n",
       "      <th>SalesRep</th>\n",
       "      <th>Region</th>\n",
       "      <th>Product</th>\n",
       "      <th>Color</th>\n",
       "      <th>Units</th>\n",
       "      <th>Revenue</th>\n",
       "    </tr>\n",
       "  </thead>\n",
       "  <tbody>\n",
       "    <tr>\n",
       "      <th>count</th>\n",
       "      <td>9971</td>\n",
       "      <td>9971</td>\n",
       "      <td>9971</td>\n",
       "      <td>9971</td>\n",
       "      <td>9971</td>\n",
       "      <td>9971.000000</td>\n",
       "      <td>9971.000000</td>\n",
       "    </tr>\n",
       "    <tr>\n",
       "      <th>unique</th>\n",
       "      <td>717</td>\n",
       "      <td>6</td>\n",
       "      <td>3</td>\n",
       "      <td>7</td>\n",
       "      <td>5</td>\n",
       "      <td>NaN</td>\n",
       "      <td>NaN</td>\n",
       "    </tr>\n",
       "    <tr>\n",
       "      <th>top</th>\n",
       "      <td>2016-09-11</td>\n",
       "      <td>Julie</td>\n",
       "      <td>West</td>\n",
       "      <td>Bellen</td>\n",
       "      <td>Red</td>\n",
       "      <td>NaN</td>\n",
       "      <td>NaN</td>\n",
       "    </tr>\n",
       "    <tr>\n",
       "      <th>freq</th>\n",
       "      <td>77</td>\n",
       "      <td>2233</td>\n",
       "      <td>4417</td>\n",
       "      <td>1948</td>\n",
       "      <td>3020</td>\n",
       "      <td>NaN</td>\n",
       "      <td>NaN</td>\n",
       "    </tr>\n",
       "    <tr>\n",
       "      <th>mean</th>\n",
       "      <td>NaN</td>\n",
       "      <td>NaN</td>\n",
       "      <td>NaN</td>\n",
       "      <td>NaN</td>\n",
       "      <td>NaN</td>\n",
       "      <td>3.388828</td>\n",
       "      <td>91.181513</td>\n",
       "    </tr>\n",
       "    <tr>\n",
       "      <th>std</th>\n",
       "      <td>NaN</td>\n",
       "      <td>NaN</td>\n",
       "      <td>NaN</td>\n",
       "      <td>NaN</td>\n",
       "      <td>NaN</td>\n",
       "      <td>4.320759</td>\n",
       "      <td>120.894473</td>\n",
       "    </tr>\n",
       "    <tr>\n",
       "      <th>min</th>\n",
       "      <td>NaN</td>\n",
       "      <td>NaN</td>\n",
       "      <td>NaN</td>\n",
       "      <td>NaN</td>\n",
       "      <td>NaN</td>\n",
       "      <td>1.000000</td>\n",
       "      <td>21.000000</td>\n",
       "    </tr>\n",
       "    <tr>\n",
       "      <th>25%</th>\n",
       "      <td>NaN</td>\n",
       "      <td>NaN</td>\n",
       "      <td>NaN</td>\n",
       "      <td>NaN</td>\n",
       "      <td>NaN</td>\n",
       "      <td>2.000000</td>\n",
       "      <td>42.900000</td>\n",
       "    </tr>\n",
       "    <tr>\n",
       "      <th>50%</th>\n",
       "      <td>NaN</td>\n",
       "      <td>NaN</td>\n",
       "      <td>NaN</td>\n",
       "      <td>NaN</td>\n",
       "      <td>NaN</td>\n",
       "      <td>2.000000</td>\n",
       "      <td>60.000000</td>\n",
       "    </tr>\n",
       "    <tr>\n",
       "      <th>75%</th>\n",
       "      <td>NaN</td>\n",
       "      <td>NaN</td>\n",
       "      <td>NaN</td>\n",
       "      <td>NaN</td>\n",
       "      <td>NaN</td>\n",
       "      <td>3.000000</td>\n",
       "      <td>76.500000</td>\n",
       "    </tr>\n",
       "    <tr>\n",
       "      <th>max</th>\n",
       "      <td>NaN</td>\n",
       "      <td>NaN</td>\n",
       "      <td>NaN</td>\n",
       "      <td>NaN</td>\n",
       "      <td>NaN</td>\n",
       "      <td>25.000000</td>\n",
       "      <td>1901.750000</td>\n",
       "    </tr>\n",
       "  </tbody>\n",
       "</table>\n",
       "</div>"
      ],
      "text/plain": [
       "              Date SalesRep Region Product Color        Units      Revenue\n",
       "count         9971     9971   9971    9971  9971  9971.000000  9971.000000\n",
       "unique         717        6      3       7     5          NaN          NaN\n",
       "top     2016-09-11    Julie   West  Bellen   Red          NaN          NaN\n",
       "freq            77     2233   4417    1948  3020          NaN          NaN\n",
       "mean           NaN      NaN    NaN     NaN   NaN     3.388828    91.181513\n",
       "std            NaN      NaN    NaN     NaN   NaN     4.320759   120.894473\n",
       "min            NaN      NaN    NaN     NaN   NaN     1.000000    21.000000\n",
       "25%            NaN      NaN    NaN     NaN   NaN     2.000000    42.900000\n",
       "50%            NaN      NaN    NaN     NaN   NaN     2.000000    60.000000\n",
       "75%            NaN      NaN    NaN     NaN   NaN     3.000000    76.500000\n",
       "max            NaN      NaN    NaN     NaN   NaN    25.000000  1901.750000"
      ]
     },
     "execution_count": 5,
     "metadata": {},
     "output_type": "execute_result"
    }
   ],
   "source": [
    "df.describe(include=['object','float','int'])"
   ]
  },
  {
   "cell_type": "markdown",
   "id": "338e75d5",
   "metadata": {},
   "source": [
    "### Some useful Insights\n",
    "\n",
    "There was a total of `9,971` sales entries between 2015-2017 out of which the following descriptions were made:\n",
    "\n",
    "**Units:**\n",
    "* The minimum number of units sold between 2015-2017 was `1` \n",
    "* The maximum number of units sold between 2015-2017 was `25`\n",
    "* The average number of units sold between 2015-2017 was aproximately `3`\n",
    "\n",
    "**Revenue**\n",
    "* The least revenue generated between 2015-2017 was `21` \n",
    "* The most revenue between 2015-2017 was approximately `1902`\n",
    "\n",
    "**---Others---**\n",
    "* We had `6` unique Sales Representatives between 2015-2017 \n",
    "* We covered `3` Regions between 2015-2017\n",
    "* `5` unique colors"
   ]
  },
  {
   "cell_type": "code",
   "execution_count": 6,
   "id": "6bf6cf2b",
   "metadata": {
    "scrolled": true
   },
   "outputs": [
    {
     "data": {
      "image/png": "[encoded data removed]",
      "text/plain": [
       "<Figure size 792x288 with 1 Axes>"
      ]
     },
     "metadata": {},
     "output_type": "display_data"
    }
   ],
   "source": [
    "# At what amount did we sell most?\n",
    "\n",
    "df['Revenue'].value_counts().hist(bins=50);"
   ]
  },
  {
   "cell_type": "markdown",
   "id": "e5eb010c",
   "metadata": {},
   "source": [
    "Here most items were sold between 21 - 70 respectively"
   ]
  },
  {
   "cell_type": "code",
   "execution_count": 7,
   "id": "f87822cf",
   "metadata": {
    "scrolled": true
   },
   "outputs": [
    {
     "data": {
      "image/png": "[encoded data removed]",
      "text/plain": [
       "<Figure size 792x288 with 1 Axes>"
      ]
     },
     "metadata": {},
     "output_type": "display_data"
    }
   ],
   "source": [
    "df['Units'].hist(bins=50);"
   ]
  },
  {
   "cell_type": "code",
   "execution_count": 8,
   "id": "e062b8c9",
   "metadata": {},
   "outputs": [
    {
     "data": {
      "text/plain": [
       "909171"
      ]
     },
     "execution_count": 8,
     "metadata": {},
     "output_type": "execute_result"
    }
   ],
   "source": [
    "# What's the total revenue generated between 2015-2017?\n",
    "\n",
    "round(df['Revenue'].sum())"
   ]
  },
  {
   "cell_type": "code",
   "execution_count": 9,
   "id": "0257cb19",
   "metadata": {},
   "outputs": [
    {
     "name": "stdout",
     "output_type": "stream",
     "text": [
      "<class 'pandas.core.frame.DataFrame'>\n",
      "RangeIndex: 9971 entries, 0 to 9970\n",
      "Data columns (total 7 columns):\n",
      " #   Column    Non-Null Count  Dtype  \n",
      "---  ------    --------------  -----  \n",
      " 0   Date      9971 non-null   object \n",
      " 1   SalesRep  9971 non-null   object \n",
      " 2   Region    9971 non-null   object \n",
      " 3   Product   9971 non-null   object \n",
      " 4   Color     9971 non-null   object \n",
      " 5   Units     9971 non-null   int64  \n",
      " 6   Revenue   9971 non-null   float64\n",
      "dtypes: float64(1), int64(1), object(5)\n",
      "memory usage: 545.4+ KB\n"
     ]
    }
   ],
   "source": [
    "df.info()"
   ]
  },
  {
   "cell_type": "code",
   "execution_count": 10,
   "id": "e534ada6",
   "metadata": {},
   "outputs": [
    {
     "data": {
      "text/plain": [
       "Date        0\n",
       "SalesRep    0\n",
       "Region      0\n",
       "Product     0\n",
       "Color       0\n",
       "Units       0\n",
       "Revenue     0\n",
       "dtype: int64"
      ]
     },
     "execution_count": 10,
     "metadata": {},
     "output_type": "execute_result"
    }
   ],
   "source": [
    "# Check if we have any missing entry\n",
    "df.isna().sum()"
   ]
  },
  {
   "cell_type": "markdown",
   "id": "1cf6c9a3",
   "metadata": {},
   "source": [
    "No entry is missing"
   ]
  },
  {
   "cell_type": "markdown",
   "id": "a3473d42",
   "metadata": {},
   "source": [
    "## Revenue by region"
   ]
  },
  {
   "cell_type": "code",
   "execution_count": 57,
   "id": "012e6ea7",
   "metadata": {
    "scrolled": false
   },
   "outputs": [
    {
     "data": {
      "text/html": [
       "<div>\n",
       "<style scoped>\n",
       "    .dataframe tbody tr th:only-of-type {\n",
       "        vertical-align: middle;\n",
       "    }\n",
       "\n",
       "    .dataframe tbody tr th {\n",
       "        vertical-align: top;\n",
       "    }\n",
       "\n",
       "    .dataframe thead th {\n",
       "        text-align: right;\n",
       "    }\n",
       "</style>\n",
       "<table border=\"1\" class=\"dataframe\">\n",
       "  <thead>\n",
       "    <tr style=\"text-align: right;\">\n",
       "      <th></th>\n",
       "      <th>Revenue</th>\n",
       "    </tr>\n",
       "    <tr>\n",
       "      <th>Region</th>\n",
       "      <th></th>\n",
       "    </tr>\n",
       "  </thead>\n",
       "  <tbody>\n",
       "    <tr>\n",
       "      <th>West</th>\n",
       "      <td>408037.58</td>\n",
       "    </tr>\n",
       "    <tr>\n",
       "      <th>South</th>\n",
       "      <td>263256.50</td>\n",
       "    </tr>\n",
       "    <tr>\n",
       "      <th>East</th>\n",
       "      <td>237876.79</td>\n",
       "    </tr>\n",
       "  </tbody>\n",
       "</table>\n",
       "</div>"
      ],
      "text/plain": [
       "          Revenue\n",
       "Region           \n",
       "West    408037.58\n",
       "South   263256.50\n",
       "East    237876.79"
      ]
     },
     "execution_count": 57,
     "metadata": {},
     "output_type": "execute_result"
    }
   ],
   "source": [
    "region_revenue = pd.DataFrame(df.groupby(by=['Region'])['Revenue'].sum())\n",
    "region_revenue.sort_values(ascending=False, by='Revenue')"
   ]
  },
  {
   "cell_type": "code",
   "execution_count": 58,
   "id": "76777f32",
   "metadata": {
    "scrolled": true
   },
   "outputs": [
    {
     "data": {
      "image/png": "[encoded data removed]",
      "text/plain": [
       "<Figure size 792x288 with 1 Axes>"
      ]
     },
     "metadata": {},
     "output_type": "display_data"
    }
   ],
   "source": [
    "# Visualize region impact via revenue\n",
    "region_revenue.plot(kind='bar');"
   ]
  },
  {
   "cell_type": "markdown",
   "id": "5b21b3bf",
   "metadata": {},
   "source": [
    "It's very clear that the `West Region` generated the most revenue"
   ]
  },
  {
   "cell_type": "markdown",
   "id": "1da87ad7",
   "metadata": {},
   "source": [
    "## Revenue by sales Rep"
   ]
  },
  {
   "cell_type": "code",
   "execution_count": 13,
   "id": "91c4b675",
   "metadata": {},
   "outputs": [
    {
     "data": {
      "text/html": [
       "<div>\n",
       "<style scoped>\n",
       "    .dataframe tbody tr th:only-of-type {\n",
       "        vertical-align: middle;\n",
       "    }\n",
       "\n",
       "    .dataframe tbody tr th {\n",
       "        vertical-align: top;\n",
       "    }\n",
       "\n",
       "    .dataframe thead th {\n",
       "        text-align: right;\n",
       "    }\n",
       "</style>\n",
       "<table border=\"1\" class=\"dataframe\">\n",
       "  <thead>\n",
       "    <tr style=\"text-align: right;\">\n",
       "      <th></th>\n",
       "      <th>Revenue</th>\n",
       "    </tr>\n",
       "    <tr>\n",
       "      <th>SalesRep</th>\n",
       "      <th></th>\n",
       "    </tr>\n",
       "  </thead>\n",
       "  <tbody>\n",
       "    <tr>\n",
       "      <th>Nicole</th>\n",
       "      <td>92026.68</td>\n",
       "    </tr>\n",
       "    <tr>\n",
       "      <th>Adam</th>\n",
       "      <td>102715.60</td>\n",
       "    </tr>\n",
       "    <tr>\n",
       "      <th>Jessica</th>\n",
       "      <td>145496.28</td>\n",
       "    </tr>\n",
       "    <tr>\n",
       "      <th>Nabil</th>\n",
       "      <td>158904.48</td>\n",
       "    </tr>\n",
       "    <tr>\n",
       "      <th>Julie</th>\n",
       "      <td>204450.05</td>\n",
       "    </tr>\n",
       "    <tr>\n",
       "      <th>Mike</th>\n",
       "      <td>205577.78</td>\n",
       "    </tr>\n",
       "  </tbody>\n",
       "</table>\n",
       "</div>"
      ],
      "text/plain": [
       "            Revenue\n",
       "SalesRep           \n",
       "Nicole     92026.68\n",
       "Adam      102715.60\n",
       "Jessica   145496.28\n",
       "Nabil     158904.48\n",
       "Julie     204450.05\n",
       "Mike      205577.78"
      ]
     },
     "execution_count": 13,
     "metadata": {},
     "output_type": "execute_result"
    }
   ],
   "source": [
    "sales_rep_revenue = df.groupby(by=['SalesRep'])['Revenue'].sum()\n",
    "sales_rep_revenue = pd.DataFrame(sales_rep_revenue).sort_values(ascending=True, by='Revenue')\n",
    "sales_rep_revenue"
   ]
  },
  {
   "cell_type": "code",
   "execution_count": 14,
   "id": "6044c7f9",
   "metadata": {
    "scrolled": true
   },
   "outputs": [
    {
     "data": {
      "image/png": "[encoded data removed]",
      "text/plain": [
       "<Figure size 792x288 with 1 Axes>"
      ]
     },
     "metadata": {},
     "output_type": "display_data"
    }
   ],
   "source": [
    "# Visualize salesRep impact via revenue\n",
    "sales_rep_revenue.plot(kind='bar');"
   ]
  },
  {
   "cell_type": "code",
   "execution_count": 15,
   "id": "40428357",
   "metadata": {},
   "outputs": [
    {
     "data": {
      "text/plain": [
       "'Mike Slightly beat Julie in revenue generation by Revenue    0.55\\ndtype: float64%'"
      ]
     },
     "execution_count": 15,
     "metadata": {},
     "output_type": "execute_result"
    }
   ],
   "source": [
    "'Mike Slightly beat Julie in revenue generation by ' + str(round(((sales_rep_revenue.loc['Mike'] - sales_rep_revenue.loc['Julie']) / sales_rep_revenue.loc['Julie']) * 100, 2))+'%'"
   ]
  },
  {
   "cell_type": "markdown",
   "id": "ec145614",
   "metadata": {},
   "source": [
    "## Revenue by products"
   ]
  },
  {
   "cell_type": "code",
   "execution_count": 16,
   "id": "5fad90b9",
   "metadata": {},
   "outputs": [
    {
     "data": {
      "text/html": [
       "<div>\n",
       "<style scoped>\n",
       "    .dataframe tbody tr th:only-of-type {\n",
       "        vertical-align: middle;\n",
       "    }\n",
       "\n",
       "    .dataframe tbody tr th {\n",
       "        vertical-align: top;\n",
       "    }\n",
       "\n",
       "    .dataframe thead th {\n",
       "        text-align: right;\n",
       "    }\n",
       "</style>\n",
       "<table border=\"1\" class=\"dataframe\">\n",
       "  <thead>\n",
       "    <tr style=\"text-align: right;\">\n",
       "      <th></th>\n",
       "      <th>Units</th>\n",
       "      <th>Revenue</th>\n",
       "    </tr>\n",
       "    <tr>\n",
       "      <th>Product</th>\n",
       "      <th></th>\n",
       "      <th></th>\n",
       "    </tr>\n",
       "  </thead>\n",
       "  <tbody>\n",
       "    <tr>\n",
       "      <th>Bellen</th>\n",
       "      <td>6579</td>\n",
       "      <td>168175.05</td>\n",
       "    </tr>\n",
       "    <tr>\n",
       "      <th>Quad</th>\n",
       "      <td>6223</td>\n",
       "      <td>194032.15</td>\n",
       "    </tr>\n",
       "    <tr>\n",
       "      <th>Sunbell</th>\n",
       "      <td>4500</td>\n",
       "      <td>114283.09</td>\n",
       "    </tr>\n",
       "    <tr>\n",
       "      <th>Carlota</th>\n",
       "      <td>4371</td>\n",
       "      <td>101272.05</td>\n",
       "    </tr>\n",
       "    <tr>\n",
       "      <th>Aspen</th>\n",
       "      <td>4242</td>\n",
       "      <td>96382.80</td>\n",
       "    </tr>\n",
       "    <tr>\n",
       "      <th>Sunshine</th>\n",
       "      <td>4229</td>\n",
       "      <td>85983.80</td>\n",
       "    </tr>\n",
       "    <tr>\n",
       "      <th>Doublers</th>\n",
       "      <td>3646</td>\n",
       "      <td>149041.93</td>\n",
       "    </tr>\n",
       "  </tbody>\n",
       "</table>\n",
       "</div>"
      ],
      "text/plain": [
       "          Units    Revenue\n",
       "Product                   \n",
       "Bellen     6579  168175.05\n",
       "Quad       6223  194032.15\n",
       "Sunbell    4500  114283.09\n",
       "Carlota    4371  101272.05\n",
       "Aspen      4242   96382.80\n",
       "Sunshine   4229   85983.80\n",
       "Doublers   3646  149041.93"
      ]
     },
     "execution_count": 16,
     "metadata": {},
     "output_type": "execute_result"
    }
   ],
   "source": [
    "product_revenue = df[['Units', 'Revenue','Product']].groupby('Product').sum().sort_values(ascending=False,by='Units')\n",
    "product_revenue"
   ]
  },
  {
   "cell_type": "code",
   "execution_count": 17,
   "id": "2a19e11c",
   "metadata": {},
   "outputs": [
    {
     "data": {
      "image/png": "[encoded data removed]",
      "text/plain": [
       "<Figure size 792x288 with 1 Axes>"
      ]
     },
     "metadata": {},
     "output_type": "display_data"
    }
   ],
   "source": [
    "# Visualize number of Products via revenue\n",
    "product_revenue.groupby(by=['Product'])['Revenue'].sum().sort_values(ascending=True).plot(\n",
    "                                                                                          kind='bar',ylabel='Revenue');"
   ]
  },
  {
   "cell_type": "markdown",
   "id": "e2b58499",
   "metadata": {},
   "source": [
    "# Sales trend"
   ]
  },
  {
   "cell_type": "code",
   "execution_count": 18,
   "id": "c6a72f5a",
   "metadata": {
    "scrolled": false
   },
   "outputs": [],
   "source": [
    "# Convert the date column to a datetime object\n",
    "df['Date'] = pd.to_datetime(df['Date'])\n",
    "df['Year'] = df['Date'].dt.year\n",
    "df['Month'] = df['Date'].dt.month\n",
    "df['Day']  = df['Date'].dt.day\n",
    "# df = df.drop('Date',axis=1)"
   ]
  },
  {
   "cell_type": "markdown",
   "id": "6629032b",
   "metadata": {},
   "source": [
    "## Plot Yearly Sales Chart/Trend"
   ]
  },
  {
   "cell_type": "code",
   "execution_count": 19,
   "id": "4af9033a",
   "metadata": {},
   "outputs": [
    {
     "data": {
      "text/plain": [
       "[2015, 2016, 2017]"
      ]
     },
     "execution_count": 19,
     "metadata": {},
     "output_type": "execute_result"
    }
   ],
   "source": [
    "years = [unique for unique in df.Year.unique()]\n",
    "years"
   ]
  },
  {
   "cell_type": "code",
   "execution_count": 20,
   "id": "8e10f7c1",
   "metadata": {},
   "outputs": [],
   "source": [
    "def plot_trend(years:list, df):\n",
    "    for year in years:\n",
    "        new_df = df[df['Year'] == year]\n",
    "        new_df.groupby('Date')['Revenue'].sum().plot(linewidth=1.2, \n",
    "                                             ylabel='Revenue', \n",
    "                                             xlabel='Date', \n",
    "                                             title='Sales Trend');"
   ]
  },
  {
   "cell_type": "code",
   "execution_count": 21,
   "id": "7747aec7",
   "metadata": {
    "scrolled": false
   },
   "outputs": [
    {
     "data": {
      "image/png": "[encoded data removed]",
      "text/plain": [
       "<Figure size 792x288 with 1 Axes>"
      ]
     },
     "metadata": {},
     "output_type": "display_data"
    }
   ],
   "source": [
    "import matplotlib.patches as patches\n",
    "\n",
    "year1 = patches.Patch(color='blue', label='2015')\n",
    "year2 = patches.Patch(color='green', label='2016')\n",
    "year3 = patches.Patch(color='red', label='2017')\n",
    "plot_trend(years, df)\n",
    "plt.legend(handles=[year1,year2,year3], loc=2);"
   ]
  },
  {
   "cell_type": "markdown",
   "id": "e4aa5fe0",
   "metadata": {},
   "source": [
    "**The trend plot looks symmetrical for the months of October in 2017 and 2018 respectively. <br> This shows that most sales are made within the month of October. what could have influenced this?**"
   ]
  },
  {
   "cell_type": "code",
   "execution_count": 22,
   "id": "5c3a9215",
   "metadata": {
    "scrolled": false
   },
   "outputs": [
    {
     "data": {
      "image/png": "[encoded data removed]",
      "text/plain": [
       "<Figure size 792x288 with 1 Axes>"
      ]
     },
     "metadata": {},
     "output_type": "display_data"
    }
   ],
   "source": [
    "ax = df[['Month', 'Units', 'Revenue']].groupby('Month').sum().plot(\n",
    "                                                                         title='Monthly Sales Trend', \n",
    "                                                                         ylabel='Revenue',\n",
    "                                                                         );\n",
    "ax.vlines(10,1,300000, linestyles='dashed')\n",
    "ax.annotate('Oct',(10,0));"
   ]
  },
  {
   "cell_type": "markdown",
   "id": "094eb1fb",
   "metadata": {},
   "source": [
    "**How many times was entry made in each month?**\n"
   ]
  },
  {
   "cell_type": "code",
   "execution_count": 23,
   "id": "c5fd70cb",
   "metadata": {
    "scrolled": true
   },
   "outputs": [
    {
     "data": {
      "image/png": "[encoded data removed]",
      "text/plain": [
       "<Figure size 792x288 with 1 Axes>"
      ]
     },
     "metadata": {},
     "output_type": "display_data"
    }
   ],
   "source": [
    "df['Month'].value_counts().sort_values().plot(kind='bar', xlabel='Month', ylabel='Number of Entries');"
   ]
  },
  {
   "cell_type": "code",
   "execution_count": 59,
   "id": "7b74bc48",
   "metadata": {
    "scrolled": false
   },
   "outputs": [
    {
     "data": {
      "text/html": [
       "<div>\n",
       "<style scoped>\n",
       "    .dataframe tbody tr th:only-of-type {\n",
       "        vertical-align: middle;\n",
       "    }\n",
       "\n",
       "    .dataframe tbody tr th {\n",
       "        vertical-align: top;\n",
       "    }\n",
       "\n",
       "    .dataframe thead th {\n",
       "        text-align: right;\n",
       "    }\n",
       "</style>\n",
       "<table border=\"1\" class=\"dataframe\">\n",
       "  <thead>\n",
       "    <tr style=\"text-align: right;\">\n",
       "      <th></th>\n",
       "      <th></th>\n",
       "      <th>Product</th>\n",
       "    </tr>\n",
       "    <tr>\n",
       "      <th>Month</th>\n",
       "      <th>Product</th>\n",
       "      <th></th>\n",
       "    </tr>\n",
       "  </thead>\n",
       "  <tbody>\n",
       "    <tr>\n",
       "      <th rowspan=\"5\" valign=\"top\">1</th>\n",
       "      <th>Bellen</th>\n",
       "      <td>52</td>\n",
       "    </tr>\n",
       "    <tr>\n",
       "      <th>Quad</th>\n",
       "      <td>46</td>\n",
       "    </tr>\n",
       "    <tr>\n",
       "      <th>Sunbell</th>\n",
       "      <td>34</td>\n",
       "    </tr>\n",
       "    <tr>\n",
       "      <th>Aspen</th>\n",
       "      <td>33</td>\n",
       "    </tr>\n",
       "    <tr>\n",
       "      <th>Sunshine</th>\n",
       "      <td>33</td>\n",
       "    </tr>\n",
       "    <tr>\n",
       "      <th>...</th>\n",
       "      <th>...</th>\n",
       "      <td>...</td>\n",
       "    </tr>\n",
       "    <tr>\n",
       "      <th rowspan=\"5\" valign=\"top\">12</th>\n",
       "      <th>Sunbell</th>\n",
       "      <td>43</td>\n",
       "    </tr>\n",
       "    <tr>\n",
       "      <th>Aspen</th>\n",
       "      <td>41</td>\n",
       "    </tr>\n",
       "    <tr>\n",
       "      <th>Sunshine</th>\n",
       "      <td>36</td>\n",
       "    </tr>\n",
       "    <tr>\n",
       "      <th>Carlota</th>\n",
       "      <td>35</td>\n",
       "    </tr>\n",
       "    <tr>\n",
       "      <th>Doublers</th>\n",
       "      <td>32</td>\n",
       "    </tr>\n",
       "  </tbody>\n",
       "</table>\n",
       "<p>84 rows × 1 columns</p>\n",
       "</div>"
      ],
      "text/plain": [
       "                Product\n",
       "Month Product          \n",
       "1     Bellen         52\n",
       "      Quad           46\n",
       "      Sunbell        34\n",
       "      Aspen          33\n",
       "      Sunshine       33\n",
       "...                 ...\n",
       "12    Sunbell        43\n",
       "      Aspen          41\n",
       "      Sunshine       36\n",
       "      Carlota        35\n",
       "      Doublers       32\n",
       "\n",
       "[84 rows x 1 columns]"
      ]
     },
     "execution_count": 59,
     "metadata": {},
     "output_type": "execute_result"
    }
   ],
   "source": [
    "products = pd.DataFrame(df[['Units','Revenue','Product','Month', 'Region']].groupby('Month')['Product'].value_counts())\n",
    "products"
   ]
  },
  {
   "cell_type": "code",
   "execution_count": 25,
   "id": "8ae789ff",
   "metadata": {
    "scrolled": true
   },
   "outputs": [],
   "source": [
    "products['No_of_products'] = products['Product']\n",
    "products.drop('Product', inplace=True, axis=1)\n",
    "products = products.reset_index()"
   ]
  },
  {
   "cell_type": "code",
   "execution_count": 26,
   "id": "3a399462",
   "metadata": {
    "scrolled": false
   },
   "outputs": [
    {
     "data": {
      "text/html": [
       "<div>\n",
       "<style scoped>\n",
       "    .dataframe tbody tr th:only-of-type {\n",
       "        vertical-align: middle;\n",
       "    }\n",
       "\n",
       "    .dataframe tbody tr th {\n",
       "        vertical-align: top;\n",
       "    }\n",
       "\n",
       "    .dataframe thead th {\n",
       "        text-align: right;\n",
       "    }\n",
       "</style>\n",
       "<table border=\"1\" class=\"dataframe\">\n",
       "  <thead>\n",
       "    <tr style=\"text-align: right;\">\n",
       "      <th></th>\n",
       "      <th>Month</th>\n",
       "      <th>Product</th>\n",
       "      <th>No_of_products</th>\n",
       "    </tr>\n",
       "  </thead>\n",
       "  <tbody>\n",
       "    <tr>\n",
       "      <th>0</th>\n",
       "      <td>1</td>\n",
       "      <td>Bellen</td>\n",
       "      <td>52</td>\n",
       "    </tr>\n",
       "    <tr>\n",
       "      <th>1</th>\n",
       "      <td>1</td>\n",
       "      <td>Quad</td>\n",
       "      <td>46</td>\n",
       "    </tr>\n",
       "    <tr>\n",
       "      <th>2</th>\n",
       "      <td>1</td>\n",
       "      <td>Sunbell</td>\n",
       "      <td>34</td>\n",
       "    </tr>\n",
       "    <tr>\n",
       "      <th>3</th>\n",
       "      <td>1</td>\n",
       "      <td>Aspen</td>\n",
       "      <td>33</td>\n",
       "    </tr>\n",
       "    <tr>\n",
       "      <th>4</th>\n",
       "      <td>1</td>\n",
       "      <td>Sunshine</td>\n",
       "      <td>33</td>\n",
       "    </tr>\n",
       "    <tr>\n",
       "      <th>...</th>\n",
       "      <td>...</td>\n",
       "      <td>...</td>\n",
       "      <td>...</td>\n",
       "    </tr>\n",
       "    <tr>\n",
       "      <th>79</th>\n",
       "      <td>12</td>\n",
       "      <td>Sunbell</td>\n",
       "      <td>43</td>\n",
       "    </tr>\n",
       "    <tr>\n",
       "      <th>80</th>\n",
       "      <td>12</td>\n",
       "      <td>Aspen</td>\n",
       "      <td>41</td>\n",
       "    </tr>\n",
       "    <tr>\n",
       "      <th>81</th>\n",
       "      <td>12</td>\n",
       "      <td>Sunshine</td>\n",
       "      <td>36</td>\n",
       "    </tr>\n",
       "    <tr>\n",
       "      <th>82</th>\n",
       "      <td>12</td>\n",
       "      <td>Carlota</td>\n",
       "      <td>35</td>\n",
       "    </tr>\n",
       "    <tr>\n",
       "      <th>83</th>\n",
       "      <td>12</td>\n",
       "      <td>Doublers</td>\n",
       "      <td>32</td>\n",
       "    </tr>\n",
       "  </tbody>\n",
       "</table>\n",
       "<p>84 rows × 3 columns</p>\n",
       "</div>"
      ],
      "text/plain": [
       "    Month   Product  No_of_products\n",
       "0       1    Bellen              52\n",
       "1       1      Quad              46\n",
       "2       1   Sunbell              34\n",
       "3       1     Aspen              33\n",
       "4       1  Sunshine              33\n",
       "..    ...       ...             ...\n",
       "79     12   Sunbell              43\n",
       "80     12     Aspen              41\n",
       "81     12  Sunshine              36\n",
       "82     12   Carlota              35\n",
       "83     12  Doublers              32\n",
       "\n",
       "[84 rows x 3 columns]"
      ]
     },
     "execution_count": 26,
     "metadata": {},
     "output_type": "execute_result"
    }
   ],
   "source": [
    "products"
   ]
  },
  {
   "cell_type": "code",
   "execution_count": 27,
   "id": "18546e47",
   "metadata": {},
   "outputs": [
    {
     "data": {
      "text/html": [
       "<div>\n",
       "<style scoped>\n",
       "    .dataframe tbody tr th:only-of-type {\n",
       "        vertical-align: middle;\n",
       "    }\n",
       "\n",
       "    .dataframe tbody tr th {\n",
       "        vertical-align: top;\n",
       "    }\n",
       "\n",
       "    .dataframe thead tr th {\n",
       "        text-align: left;\n",
       "    }\n",
       "\n",
       "    .dataframe thead tr:last-of-type th {\n",
       "        text-align: right;\n",
       "    }\n",
       "</style>\n",
       "<table border=\"1\" class=\"dataframe\">\n",
       "  <thead>\n",
       "    <tr>\n",
       "      <th></th>\n",
       "      <th colspan=\"7\" halign=\"left\">No_of_products</th>\n",
       "    </tr>\n",
       "    <tr>\n",
       "      <th>Product</th>\n",
       "      <th>Aspen</th>\n",
       "      <th>Bellen</th>\n",
       "      <th>Carlota</th>\n",
       "      <th>Doublers</th>\n",
       "      <th>Quad</th>\n",
       "      <th>Sunbell</th>\n",
       "      <th>Sunshine</th>\n",
       "    </tr>\n",
       "    <tr>\n",
       "      <th>Month</th>\n",
       "      <th></th>\n",
       "      <th></th>\n",
       "      <th></th>\n",
       "      <th></th>\n",
       "      <th></th>\n",
       "      <th></th>\n",
       "      <th></th>\n",
       "    </tr>\n",
       "  </thead>\n",
       "  <tbody>\n",
       "    <tr>\n",
       "      <th>1</th>\n",
       "      <td>33</td>\n",
       "      <td>52</td>\n",
       "      <td>30</td>\n",
       "      <td>29</td>\n",
       "      <td>46</td>\n",
       "      <td>34</td>\n",
       "      <td>33</td>\n",
       "    </tr>\n",
       "    <tr>\n",
       "      <th>2</th>\n",
       "      <td>26</td>\n",
       "      <td>45</td>\n",
       "      <td>29</td>\n",
       "      <td>25</td>\n",
       "      <td>45</td>\n",
       "      <td>35</td>\n",
       "      <td>26</td>\n",
       "    </tr>\n",
       "    <tr>\n",
       "      <th>3</th>\n",
       "      <td>49</td>\n",
       "      <td>55</td>\n",
       "      <td>46</td>\n",
       "      <td>34</td>\n",
       "      <td>77</td>\n",
       "      <td>35</td>\n",
       "      <td>39</td>\n",
       "    </tr>\n",
       "    <tr>\n",
       "      <th>4</th>\n",
       "      <td>31</td>\n",
       "      <td>37</td>\n",
       "      <td>35</td>\n",
       "      <td>27</td>\n",
       "      <td>50</td>\n",
       "      <td>43</td>\n",
       "      <td>25</td>\n",
       "    </tr>\n",
       "    <tr>\n",
       "      <th>5</th>\n",
       "      <td>33</td>\n",
       "      <td>52</td>\n",
       "      <td>36</td>\n",
       "      <td>30</td>\n",
       "      <td>51</td>\n",
       "      <td>37</td>\n",
       "      <td>31</td>\n",
       "    </tr>\n",
       "    <tr>\n",
       "      <th>6</th>\n",
       "      <td>37</td>\n",
       "      <td>53</td>\n",
       "      <td>23</td>\n",
       "      <td>21</td>\n",
       "      <td>52</td>\n",
       "      <td>30</td>\n",
       "      <td>36</td>\n",
       "    </tr>\n",
       "    <tr>\n",
       "      <th>7</th>\n",
       "      <td>38</td>\n",
       "      <td>60</td>\n",
       "      <td>37</td>\n",
       "      <td>25</td>\n",
       "      <td>55</td>\n",
       "      <td>46</td>\n",
       "      <td>42</td>\n",
       "    </tr>\n",
       "    <tr>\n",
       "      <th>8</th>\n",
       "      <td>34</td>\n",
       "      <td>54</td>\n",
       "      <td>26</td>\n",
       "      <td>35</td>\n",
       "      <td>51</td>\n",
       "      <td>35</td>\n",
       "      <td>35</td>\n",
       "    </tr>\n",
       "    <tr>\n",
       "      <th>9</th>\n",
       "      <td>380</td>\n",
       "      <td>596</td>\n",
       "      <td>399</td>\n",
       "      <td>311</td>\n",
       "      <td>560</td>\n",
       "      <td>397</td>\n",
       "      <td>404</td>\n",
       "    </tr>\n",
       "    <tr>\n",
       "      <th>10</th>\n",
       "      <td>476</td>\n",
       "      <td>735</td>\n",
       "      <td>439</td>\n",
       "      <td>333</td>\n",
       "      <td>697</td>\n",
       "      <td>491</td>\n",
       "      <td>460</td>\n",
       "    </tr>\n",
       "    <tr>\n",
       "      <th>11</th>\n",
       "      <td>119</td>\n",
       "      <td>154</td>\n",
       "      <td>118</td>\n",
       "      <td>77</td>\n",
       "      <td>142</td>\n",
       "      <td>108</td>\n",
       "      <td>103</td>\n",
       "    </tr>\n",
       "    <tr>\n",
       "      <th>12</th>\n",
       "      <td>41</td>\n",
       "      <td>55</td>\n",
       "      <td>35</td>\n",
       "      <td>32</td>\n",
       "      <td>64</td>\n",
       "      <td>43</td>\n",
       "      <td>36</td>\n",
       "    </tr>\n",
       "  </tbody>\n",
       "</table>\n",
       "</div>"
      ],
      "text/plain": [
       "        No_of_products                                              \n",
       "Product          Aspen Bellen Carlota Doublers Quad Sunbell Sunshine\n",
       "Month                                                               \n",
       "1                   33     52      30       29   46      34       33\n",
       "2                   26     45      29       25   45      35       26\n",
       "3                   49     55      46       34   77      35       39\n",
       "4                   31     37      35       27   50      43       25\n",
       "5                   33     52      36       30   51      37       31\n",
       "6                   37     53      23       21   52      30       36\n",
       "7                   38     60      37       25   55      46       42\n",
       "8                   34     54      26       35   51      35       35\n",
       "9                  380    596     399      311  560     397      404\n",
       "10                 476    735     439      333  697     491      460\n",
       "11                 119    154     118       77  142     108      103\n",
       "12                  41     55      35       32   64      43       36"
      ]
     },
     "execution_count": 27,
     "metadata": {},
     "output_type": "execute_result"
    }
   ],
   "source": [
    "products = products.pivot_table(values=['No_of_products'], index=['Month'], columns=['Product'], aggfunc= np.sum)\n",
    "products"
   ]
  },
  {
   "cell_type": "code",
   "execution_count": 50,
   "id": "11cedf33",
   "metadata": {},
   "outputs": [
    {
     "data": {
      "image/png": "[encoded data removed]",
      "text/plain": [
       "<Figure size 792x288 with 1 Axes>"
      ]
     },
     "metadata": {},
     "output_type": "display_data"
    }
   ],
   "source": [
    "products.plot(ylabel='No of Products sold', title='Monthly product sales');"
   ]
  },
  {
   "cell_type": "markdown",
   "id": "957593e0",
   "metadata": {},
   "source": [
    "It's clear now that we sell more `Bellen` during october and that and HEAVY sales kick off between `September and late November`"
   ]
  },
  {
   "cell_type": "markdown",
   "id": "3aa74bc5",
   "metadata": {},
   "source": [
    "## Monthly Revenue by Region"
   ]
  },
  {
   "cell_type": "code",
   "execution_count": 67,
   "id": "67eb550e",
   "metadata": {},
   "outputs": [
    {
     "data": {
      "text/html": [
       "<div>\n",
       "<style scoped>\n",
       "    .dataframe tbody tr th:only-of-type {\n",
       "        vertical-align: middle;\n",
       "    }\n",
       "\n",
       "    .dataframe tbody tr th {\n",
       "        vertical-align: top;\n",
       "    }\n",
       "\n",
       "    .dataframe thead th {\n",
       "        text-align: right;\n",
       "    }\n",
       "</style>\n",
       "<table border=\"1\" class=\"dataframe\">\n",
       "  <thead>\n",
       "    <tr style=\"text-align: right;\">\n",
       "      <th></th>\n",
       "      <th></th>\n",
       "      <th>Revenue</th>\n",
       "    </tr>\n",
       "    <tr>\n",
       "      <th>Month</th>\n",
       "      <th>Region</th>\n",
       "      <th></th>\n",
       "    </tr>\n",
       "  </thead>\n",
       "  <tbody>\n",
       "    <tr>\n",
       "      <th rowspan=\"3\" valign=\"top\">1</th>\n",
       "      <th>East</th>\n",
       "      <td>5012.34</td>\n",
       "    </tr>\n",
       "    <tr>\n",
       "      <th>South</th>\n",
       "      <td>7551.55</td>\n",
       "    </tr>\n",
       "    <tr>\n",
       "      <th>West</th>\n",
       "      <td>8550.33</td>\n",
       "    </tr>\n",
       "    <tr>\n",
       "      <th rowspan=\"3\" valign=\"top\">2</th>\n",
       "      <th>East</th>\n",
       "      <td>6428.75</td>\n",
       "    </tr>\n",
       "    <tr>\n",
       "      <th>South</th>\n",
       "      <td>5540.10</td>\n",
       "    </tr>\n",
       "    <tr>\n",
       "      <th>West</th>\n",
       "      <td>10864.87</td>\n",
       "    </tr>\n",
       "    <tr>\n",
       "      <th rowspan=\"3\" valign=\"top\">3</th>\n",
       "      <th>East</th>\n",
       "      <td>6082.75</td>\n",
       "    </tr>\n",
       "    <tr>\n",
       "      <th>South</th>\n",
       "      <td>8863.80</td>\n",
       "    </tr>\n",
       "    <tr>\n",
       "      <th>West</th>\n",
       "      <td>14087.99</td>\n",
       "    </tr>\n",
       "    <tr>\n",
       "      <th rowspan=\"3\" valign=\"top\">4</th>\n",
       "      <th>East</th>\n",
       "      <td>6420.63</td>\n",
       "    </tr>\n",
       "    <tr>\n",
       "      <th>South</th>\n",
       "      <td>7647.28</td>\n",
       "    </tr>\n",
       "    <tr>\n",
       "      <th>West</th>\n",
       "      <td>8865.57</td>\n",
       "    </tr>\n",
       "    <tr>\n",
       "      <th rowspan=\"3\" valign=\"top\">5</th>\n",
       "      <th>East</th>\n",
       "      <td>8782.68</td>\n",
       "    </tr>\n",
       "    <tr>\n",
       "      <th>South</th>\n",
       "      <td>5651.30</td>\n",
       "    </tr>\n",
       "    <tr>\n",
       "      <th>West</th>\n",
       "      <td>10962.00</td>\n",
       "    </tr>\n",
       "    <tr>\n",
       "      <th rowspan=\"3\" valign=\"top\">6</th>\n",
       "      <th>East</th>\n",
       "      <td>6442.85</td>\n",
       "    </tr>\n",
       "    <tr>\n",
       "      <th>South</th>\n",
       "      <td>3954.90</td>\n",
       "    </tr>\n",
       "    <tr>\n",
       "      <th>West</th>\n",
       "      <td>9020.65</td>\n",
       "    </tr>\n",
       "    <tr>\n",
       "      <th rowspan=\"3\" valign=\"top\">7</th>\n",
       "      <th>East</th>\n",
       "      <td>7180.45</td>\n",
       "    </tr>\n",
       "    <tr>\n",
       "      <th>South</th>\n",
       "      <td>10155.59</td>\n",
       "    </tr>\n",
       "    <tr>\n",
       "      <th>West</th>\n",
       "      <td>10150.25</td>\n",
       "    </tr>\n",
       "    <tr>\n",
       "      <th rowspan=\"3\" valign=\"top\">8</th>\n",
       "      <th>East</th>\n",
       "      <td>6031.55</td>\n",
       "    </tr>\n",
       "    <tr>\n",
       "      <th>South</th>\n",
       "      <td>7767.60</td>\n",
       "    </tr>\n",
       "    <tr>\n",
       "      <th>West</th>\n",
       "      <td>11567.37</td>\n",
       "    </tr>\n",
       "    <tr>\n",
       "      <th rowspan=\"3\" valign=\"top\">9</th>\n",
       "      <th>East</th>\n",
       "      <td>70532.44</td>\n",
       "    </tr>\n",
       "    <tr>\n",
       "      <th>South</th>\n",
       "      <td>83228.39</td>\n",
       "    </tr>\n",
       "    <tr>\n",
       "      <th>West</th>\n",
       "      <td>127160.06</td>\n",
       "    </tr>\n",
       "    <tr>\n",
       "      <th rowspan=\"3\" valign=\"top\">10</th>\n",
       "      <th>East</th>\n",
       "      <td>87858.60</td>\n",
       "    </tr>\n",
       "    <tr>\n",
       "      <th>South</th>\n",
       "      <td>92034.70</td>\n",
       "    </tr>\n",
       "    <tr>\n",
       "      <th>West</th>\n",
       "      <td>151780.43</td>\n",
       "    </tr>\n",
       "    <tr>\n",
       "      <th rowspan=\"3\" valign=\"top\">11</th>\n",
       "      <th>East</th>\n",
       "      <td>19478.10</td>\n",
       "    </tr>\n",
       "    <tr>\n",
       "      <th>South</th>\n",
       "      <td>24048.59</td>\n",
       "    </tr>\n",
       "    <tr>\n",
       "      <th>West</th>\n",
       "      <td>33196.52</td>\n",
       "    </tr>\n",
       "    <tr>\n",
       "      <th rowspan=\"3\" valign=\"top\">12</th>\n",
       "      <th>East</th>\n",
       "      <td>7625.65</td>\n",
       "    </tr>\n",
       "    <tr>\n",
       "      <th>South</th>\n",
       "      <td>6812.70</td>\n",
       "    </tr>\n",
       "    <tr>\n",
       "      <th>West</th>\n",
       "      <td>11831.54</td>\n",
       "    </tr>\n",
       "  </tbody>\n",
       "</table>\n",
       "</div>"
      ],
      "text/plain": [
       "                Revenue\n",
       "Month Region           \n",
       "1     East      5012.34\n",
       "      South     7551.55\n",
       "      West      8550.33\n",
       "2     East      6428.75\n",
       "      South     5540.10\n",
       "      West     10864.87\n",
       "3     East      6082.75\n",
       "      South     8863.80\n",
       "      West     14087.99\n",
       "4     East      6420.63\n",
       "      South     7647.28\n",
       "      West      8865.57\n",
       "5     East      8782.68\n",
       "      South     5651.30\n",
       "      West     10962.00\n",
       "6     East      6442.85\n",
       "      South     3954.90\n",
       "      West      9020.65\n",
       "7     East      7180.45\n",
       "      South    10155.59\n",
       "      West     10150.25\n",
       "8     East      6031.55\n",
       "      South     7767.60\n",
       "      West     11567.37\n",
       "9     East     70532.44\n",
       "      South    83228.39\n",
       "      West    127160.06\n",
       "10    East     87858.60\n",
       "      South    92034.70\n",
       "      West    151780.43\n",
       "11    East     19478.10\n",
       "      South    24048.59\n",
       "      West     33196.52\n",
       "12    East      7625.65\n",
       "      South     6812.70\n",
       "      West     11831.54"
      ]
     },
     "execution_count": 67,
     "metadata": {},
     "output_type": "execute_result"
    }
   ],
   "source": [
    "region_sales = pd.DataFrame(df[['Units','Revenue','Product','Month', 'Region']]).groupby(['Month','Region'])['Revenue'].sum()\n",
    "region_sales = pd.DataFrame(region_sales)\n",
    "region_sales"
   ]
  },
  {
   "cell_type": "code",
   "execution_count": 69,
   "id": "0b78537d",
   "metadata": {},
   "outputs": [
    {
     "data": {
      "text/html": [
       "<div>\n",
       "<style scoped>\n",
       "    .dataframe tbody tr th:only-of-type {\n",
       "        vertical-align: middle;\n",
       "    }\n",
       "\n",
       "    .dataframe tbody tr th {\n",
       "        vertical-align: top;\n",
       "    }\n",
       "\n",
       "    .dataframe thead tr th {\n",
       "        text-align: left;\n",
       "    }\n",
       "\n",
       "    .dataframe thead tr:last-of-type th {\n",
       "        text-align: right;\n",
       "    }\n",
       "</style>\n",
       "<table border=\"1\" class=\"dataframe\">\n",
       "  <thead>\n",
       "    <tr>\n",
       "      <th></th>\n",
       "      <th colspan=\"3\" halign=\"left\">Revenue</th>\n",
       "    </tr>\n",
       "    <tr>\n",
       "      <th>Region</th>\n",
       "      <th>East</th>\n",
       "      <th>South</th>\n",
       "      <th>West</th>\n",
       "    </tr>\n",
       "    <tr>\n",
       "      <th>Month</th>\n",
       "      <th></th>\n",
       "      <th></th>\n",
       "      <th></th>\n",
       "    </tr>\n",
       "  </thead>\n",
       "  <tbody>\n",
       "    <tr>\n",
       "      <th>1</th>\n",
       "      <td>5012.34</td>\n",
       "      <td>7551.55</td>\n",
       "      <td>8550.33</td>\n",
       "    </tr>\n",
       "    <tr>\n",
       "      <th>2</th>\n",
       "      <td>6428.75</td>\n",
       "      <td>5540.10</td>\n",
       "      <td>10864.87</td>\n",
       "    </tr>\n",
       "    <tr>\n",
       "      <th>3</th>\n",
       "      <td>6082.75</td>\n",
       "      <td>8863.80</td>\n",
       "      <td>14087.99</td>\n",
       "    </tr>\n",
       "    <tr>\n",
       "      <th>4</th>\n",
       "      <td>6420.63</td>\n",
       "      <td>7647.28</td>\n",
       "      <td>8865.57</td>\n",
       "    </tr>\n",
       "    <tr>\n",
       "      <th>5</th>\n",
       "      <td>8782.68</td>\n",
       "      <td>5651.30</td>\n",
       "      <td>10962.00</td>\n",
       "    </tr>\n",
       "    <tr>\n",
       "      <th>6</th>\n",
       "      <td>6442.85</td>\n",
       "      <td>3954.90</td>\n",
       "      <td>9020.65</td>\n",
       "    </tr>\n",
       "    <tr>\n",
       "      <th>7</th>\n",
       "      <td>7180.45</td>\n",
       "      <td>10155.59</td>\n",
       "      <td>10150.25</td>\n",
       "    </tr>\n",
       "    <tr>\n",
       "      <th>8</th>\n",
       "      <td>6031.55</td>\n",
       "      <td>7767.60</td>\n",
       "      <td>11567.37</td>\n",
       "    </tr>\n",
       "    <tr>\n",
       "      <th>9</th>\n",
       "      <td>70532.44</td>\n",
       "      <td>83228.39</td>\n",
       "      <td>127160.06</td>\n",
       "    </tr>\n",
       "    <tr>\n",
       "      <th>10</th>\n",
       "      <td>87858.60</td>\n",
       "      <td>92034.70</td>\n",
       "      <td>151780.43</td>\n",
       "    </tr>\n",
       "    <tr>\n",
       "      <th>11</th>\n",
       "      <td>19478.10</td>\n",
       "      <td>24048.59</td>\n",
       "      <td>33196.52</td>\n",
       "    </tr>\n",
       "    <tr>\n",
       "      <th>12</th>\n",
       "      <td>7625.65</td>\n",
       "      <td>6812.70</td>\n",
       "      <td>11831.54</td>\n",
       "    </tr>\n",
       "  </tbody>\n",
       "</table>\n",
       "</div>"
      ],
      "text/plain": [
       "         Revenue                     \n",
       "Region      East     South       West\n",
       "Month                                \n",
       "1        5012.34   7551.55    8550.33\n",
       "2        6428.75   5540.10   10864.87\n",
       "3        6082.75   8863.80   14087.99\n",
       "4        6420.63   7647.28    8865.57\n",
       "5        8782.68   5651.30   10962.00\n",
       "6        6442.85   3954.90    9020.65\n",
       "7        7180.45  10155.59   10150.25\n",
       "8        6031.55   7767.60   11567.37\n",
       "9       70532.44  83228.39  127160.06\n",
       "10      87858.60  92034.70  151780.43\n",
       "11      19478.10  24048.59   33196.52\n",
       "12       7625.65   6812.70   11831.54"
      ]
     },
     "execution_count": 69,
     "metadata": {},
     "output_type": "execute_result"
    }
   ],
   "source": [
    "region_sales = region_sales.reset_index()\n",
    "region_sales = region_sales.pivot_table(values=['Revenue'], index=['Month'], columns=['Region'], aggfunc= np.sum)\n",
    "region_sales"
   ]
  },
  {
   "cell_type": "code",
   "execution_count": 72,
   "id": "044534b5",
   "metadata": {},
   "outputs": [
    {
     "data": {
      "image/png": "[encoded data removed]",
      "text/plain": [
       "<Figure size 792x288 with 1 Axes>"
      ]
     },
     "metadata": {},
     "output_type": "display_data"
    }
   ],
   "source": [
    "region_sales.plot(ylabel='Revenue', title='Monthly Revenu by region');"
   ]
  },
  {
   "cell_type": "markdown",
   "id": "e8818b59",
   "metadata": {},
   "source": [
    "## Yearly changes in revenue"
   ]
  },
  {
   "cell_type": "code",
   "execution_count": 32,
   "id": "2cfd6f0c",
   "metadata": {
    "scrolled": true
   },
   "outputs": [
    {
     "data": {
      "text/html": [
       "<div>\n",
       "<style scoped>\n",
       "    .dataframe tbody tr th:only-of-type {\n",
       "        vertical-align: middle;\n",
       "    }\n",
       "\n",
       "    .dataframe tbody tr th {\n",
       "        vertical-align: top;\n",
       "    }\n",
       "\n",
       "    .dataframe thead th {\n",
       "        text-align: right;\n",
       "    }\n",
       "</style>\n",
       "<table border=\"1\" class=\"dataframe\">\n",
       "  <thead>\n",
       "    <tr style=\"text-align: right;\">\n",
       "      <th></th>\n",
       "      <th>Revenue</th>\n",
       "    </tr>\n",
       "    <tr>\n",
       "      <th>Date</th>\n",
       "      <th></th>\n",
       "    </tr>\n",
       "  </thead>\n",
       "  <tbody>\n",
       "    <tr>\n",
       "      <th>2015</th>\n",
       "      <td>24883.84</td>\n",
       "    </tr>\n",
       "    <tr>\n",
       "      <th>2016</th>\n",
       "      <td>444701.72</td>\n",
       "    </tr>\n",
       "    <tr>\n",
       "      <th>2017</th>\n",
       "      <td>439585.31</td>\n",
       "    </tr>\n",
       "  </tbody>\n",
       "</table>\n",
       "</div>"
      ],
      "text/plain": [
       "        Revenue\n",
       "Date           \n",
       "2015   24883.84\n",
       "2016  444701.72\n",
       "2017  439585.31"
      ]
     },
     "execution_count": 32,
     "metadata": {},
     "output_type": "execute_result"
    }
   ],
   "source": [
    "changes = pd.DataFrame(df.groupby([df.Date.dt.year])['Revenue'].sum())\n",
    "changes"
   ]
  },
  {
   "cell_type": "code",
   "execution_count": 40,
   "id": "ca84bd34",
   "metadata": {
    "scrolled": true
   },
   "outputs": [
    {
     "data": {
      "image/png": "[encoded data removed]",
      "text/plain": [
       "<Figure size 792x288 with 1 Axes>"
      ]
     },
     "metadata": {},
     "output_type": "display_data"
    }
   ],
   "source": [
    "changes.plot(kind='bar');"
   ]
  },
  {
   "cell_type": "markdown",
   "id": "a341bdbb",
   "metadata": {},
   "source": [
    "## Top 3 products"
   ]
  },
  {
   "cell_type": "code",
   "execution_count": 41,
   "id": "6e85d9fe",
   "metadata": {},
   "outputs": [
    {
     "data": {
      "text/html": [
       "<div>\n",
       "<style scoped>\n",
       "    .dataframe tbody tr th:only-of-type {\n",
       "        vertical-align: middle;\n",
       "    }\n",
       "\n",
       "    .dataframe tbody tr th {\n",
       "        vertical-align: top;\n",
       "    }\n",
       "\n",
       "    .dataframe thead th {\n",
       "        text-align: right;\n",
       "    }\n",
       "</style>\n",
       "<table border=\"1\" class=\"dataframe\">\n",
       "  <thead>\n",
       "    <tr style=\"text-align: right;\">\n",
       "      <th></th>\n",
       "      <th>Units</th>\n",
       "      <th>Revenue</th>\n",
       "    </tr>\n",
       "    <tr>\n",
       "      <th>Product</th>\n",
       "      <th></th>\n",
       "      <th></th>\n",
       "    </tr>\n",
       "  </thead>\n",
       "  <tbody>\n",
       "    <tr>\n",
       "      <th>Bellen</th>\n",
       "      <td>6579</td>\n",
       "      <td>168175.05</td>\n",
       "    </tr>\n",
       "    <tr>\n",
       "      <th>Quad</th>\n",
       "      <td>6223</td>\n",
       "      <td>194032.15</td>\n",
       "    </tr>\n",
       "    <tr>\n",
       "      <th>Sunbell</th>\n",
       "      <td>4500</td>\n",
       "      <td>114283.09</td>\n",
       "    </tr>\n",
       "    <tr>\n",
       "      <th>Carlota</th>\n",
       "      <td>4371</td>\n",
       "      <td>101272.05</td>\n",
       "    </tr>\n",
       "    <tr>\n",
       "      <th>Aspen</th>\n",
       "      <td>4242</td>\n",
       "      <td>96382.80</td>\n",
       "    </tr>\n",
       "    <tr>\n",
       "      <th>Sunshine</th>\n",
       "      <td>4229</td>\n",
       "      <td>85983.80</td>\n",
       "    </tr>\n",
       "    <tr>\n",
       "      <th>Doublers</th>\n",
       "      <td>3646</td>\n",
       "      <td>149041.93</td>\n",
       "    </tr>\n",
       "  </tbody>\n",
       "</table>\n",
       "</div>"
      ],
      "text/plain": [
       "          Units    Revenue\n",
       "Product                   \n",
       "Bellen     6579  168175.05\n",
       "Quad       6223  194032.15\n",
       "Sunbell    4500  114283.09\n",
       "Carlota    4371  101272.05\n",
       "Aspen      4242   96382.80\n",
       "Sunshine   4229   85983.80\n",
       "Doublers   3646  149041.93"
      ]
     },
     "execution_count": 41,
     "metadata": {},
     "output_type": "execute_result"
    }
   ],
   "source": [
    "product_revenue"
   ]
  },
  {
   "cell_type": "markdown",
   "id": "ba4b163c",
   "metadata": {},
   "source": [
    "Our top 3 products are `Bellen, Quad and Sunbell`"
   ]
  },
  {
   "cell_type": "markdown",
   "id": "2738ff43",
   "metadata": {},
   "source": [
    "## The most productive sales Rep in the respective years. From your analysis, give 3 recommendations you think would help the company increase revenue in the following year."
   ]
  },
  {
   "cell_type": "code",
   "execution_count": 49,
   "id": "66c1991c",
   "metadata": {},
   "outputs": [
    {
     "data": {
      "text/html": [
       "<div>\n",
       "<style scoped>\n",
       "    .dataframe tbody tr th:only-of-type {\n",
       "        vertical-align: middle;\n",
       "    }\n",
       "\n",
       "    .dataframe tbody tr th {\n",
       "        vertical-align: top;\n",
       "    }\n",
       "\n",
       "    .dataframe thead th {\n",
       "        text-align: right;\n",
       "    }\n",
       "</style>\n",
       "<table border=\"1\" class=\"dataframe\">\n",
       "  <thead>\n",
       "    <tr style=\"text-align: right;\">\n",
       "      <th></th>\n",
       "      <th></th>\n",
       "      <th>Revenue</th>\n",
       "    </tr>\n",
       "    <tr>\n",
       "      <th>Year</th>\n",
       "      <th>SalesRep</th>\n",
       "      <th></th>\n",
       "    </tr>\n",
       "  </thead>\n",
       "  <tbody>\n",
       "    <tr>\n",
       "      <th rowspan=\"6\" valign=\"top\">2017</th>\n",
       "      <th>Julie</th>\n",
       "      <td>99727.32</td>\n",
       "    </tr>\n",
       "    <tr>\n",
       "      <th>Mike</th>\n",
       "      <td>96062.19</td>\n",
       "    </tr>\n",
       "    <tr>\n",
       "      <th>Nabil</th>\n",
       "      <td>81079.23</td>\n",
       "    </tr>\n",
       "    <tr>\n",
       "      <th>Jessica</th>\n",
       "      <td>69479.74</td>\n",
       "    </tr>\n",
       "    <tr>\n",
       "      <th>Adam</th>\n",
       "      <td>49712.19</td>\n",
       "    </tr>\n",
       "    <tr>\n",
       "      <th>Nicole</th>\n",
       "      <td>43524.64</td>\n",
       "    </tr>\n",
       "    <tr>\n",
       "      <th rowspan=\"6\" valign=\"top\">2016</th>\n",
       "      <th>Mike</th>\n",
       "      <td>104590.64</td>\n",
       "    </tr>\n",
       "    <tr>\n",
       "      <th>Julie</th>\n",
       "      <td>98895.58</td>\n",
       "    </tr>\n",
       "    <tr>\n",
       "      <th>Nabil</th>\n",
       "      <td>74576.22</td>\n",
       "    </tr>\n",
       "    <tr>\n",
       "      <th>Jessica</th>\n",
       "      <td>71469.42</td>\n",
       "    </tr>\n",
       "    <tr>\n",
       "      <th>Adam</th>\n",
       "      <td>49184.21</td>\n",
       "    </tr>\n",
       "    <tr>\n",
       "      <th>Nicole</th>\n",
       "      <td>45985.65</td>\n",
       "    </tr>\n",
       "    <tr>\n",
       "      <th rowspan=\"6\" valign=\"top\">2015</th>\n",
       "      <th>Julie</th>\n",
       "      <td>5827.15</td>\n",
       "    </tr>\n",
       "    <tr>\n",
       "      <th>Mike</th>\n",
       "      <td>4924.95</td>\n",
       "    </tr>\n",
       "    <tr>\n",
       "      <th>Jessica</th>\n",
       "      <td>4547.12</td>\n",
       "    </tr>\n",
       "    <tr>\n",
       "      <th>Adam</th>\n",
       "      <td>3819.20</td>\n",
       "    </tr>\n",
       "    <tr>\n",
       "      <th>Nabil</th>\n",
       "      <td>3249.03</td>\n",
       "    </tr>\n",
       "    <tr>\n",
       "      <th>Nicole</th>\n",
       "      <td>2516.39</td>\n",
       "    </tr>\n",
       "  </tbody>\n",
       "</table>\n",
       "</div>"
      ],
      "text/plain": [
       "                 Revenue\n",
       "Year SalesRep           \n",
       "2017 Julie      99727.32\n",
       "     Mike       96062.19\n",
       "     Nabil      81079.23\n",
       "     Jessica    69479.74\n",
       "     Adam       49712.19\n",
       "     Nicole     43524.64\n",
       "2016 Mike      104590.64\n",
       "     Julie      98895.58\n",
       "     Nabil      74576.22\n",
       "     Jessica    71469.42\n",
       "     Adam       49184.21\n",
       "     Nicole     45985.65\n",
       "2015 Julie       5827.15\n",
       "     Mike        4924.95\n",
       "     Jessica     4547.12\n",
       "     Adam        3819.20\n",
       "     Nabil       3249.03\n",
       "     Nicole      2516.39"
      ]
     },
     "execution_count": 49,
     "metadata": {},
     "output_type": "execute_result"
    }
   ],
   "source": [
    "salesReps = df[['SalesRep','Year','Revenue','Units']]\n",
    "salesReps = pd.DataFrame(salesReps.groupby(['Year','SalesRep'])['Revenue'].sum())\n",
    "salesReps.sort_values(by=['Year','Revenue'], ascending=False)"
   ]
  },
  {
   "cell_type": "markdown",
   "id": "6d335380",
   "metadata": {},
   "source": [
    "Julie Stands out in sales revenue yearly except in 2016"
   ]
  },
  {
   "cell_type": "markdown",
   "id": "222610c0",
   "metadata": {},
   "source": [
    "## Conclusion/Recommendation:\n",
    "1. The best months for sales are September, October and November. The company should look into creating jingles during these periods to further maximize profit.\n",
    "2. Focus the ad targeted audience on `East and South Regions`\n",
    "3. Finally Bellen and Quad sell most during these periods consider getting more of them."
   ]
  },
  {
   "cell_type": "code",
   "execution_count": 77,
   "id": "37ef3b55",
   "metadata": {},
   "outputs": [],
   "source": [
    "!git add ."
   ]
  },
  {
   "cell_type": "code",
   "execution_count": 78,
   "id": "114b22bd",
   "metadata": {
    "scrolled": false
   },
   "outputs": [
    {
     "name": "stdout",
     "output_type": "stream",
     "text": [
      "warning: could not open directory '.Trash/': Operation not permitted\n",
      "On branch master\n",
      "\n",
      "No commits yet\n",
      "\n",
      "Changes to be committed:\n",
      "  (use \"git rm --cached <file>...\" to unstage)\n",
      "\t\u001b[32mnew file:   .ipynb_checkpoints/Sales Analysis-checkpoint.ipynb\u001b[m\n",
      "\t\u001b[32mnew file:   MODULE 2 Assessment (1).pdf\u001b[m\n",
      "\t\u001b[32mnew file:   MODULE 2-Assessment working data.xlsx\u001b[m\n",
      "\t\u001b[32mnew file:   Sales Analysis.ipynb\u001b[m\n",
      "\t\u001b[32mnew file:   sales-data.csv\u001b[m\n",
      "\n",
      "Untracked files:\n",
      "  (use \"git add <file>...\" to include in what will be committed)\n",
      "\t\u001b[31m../../../../.DS_Store\u001b[m\n",
      "\t\u001b[31m../../../../.aws-sam/\u001b[m\n",
      "\t\u001b[31m../../../../.aws/\u001b[m\n",
      "\t\u001b[31m../../../../.bash_history\u001b[m\n",
      "\t\u001b[31m../../../../.composer/\u001b[m\n",
      "\t\u001b[31m../../../../.config/\u001b[m\n",
      "\t\u001b[31m../../../../.cookiecutter_replay/\u001b[m\n",
      "\t\u001b[31m../../../../.cvlib/\u001b[m\n",
      "\t\u001b[31m../../../../.docker/\u001b[m\n",
      "\t\u001b[31m../../../../.gitconfig\u001b[m\n",
      "\t\u001b[31m../../../../.idlerc/\u001b[m\n",
      "\t\u001b[31m../../../../.ipynb_checkpoints/\u001b[m\n",
      "\t\u001b[31m../../../../.ipython/\u001b[m\n",
      "\t\u001b[31m../../../../.jupyter/\u001b[m\n",
      "\t\u001b[31m../../../../.kaggle/\u001b[m\n",
      "\t\u001b[31m../../../../.keras/\u001b[m\n",
      "\t\u001b[31m../../../../.kite/\u001b[m\n",
      "\t\u001b[31m../../../../.labelImgSettings.pkl\u001b[m\n",
      "\t\u001b[31m../../../../.matplotlib/\u001b[m\n",
      "\t\u001b[31m../../../../.npm/\u001b[m\n",
      "\t\u001b[31m../../../../.python_history\u001b[m\n",
      "\t\u001b[31m../../../../.redhat/\u001b[m\n",
      "\t\u001b[31m../../../../.rnd\u001b[m\n",
      "\t\u001b[31m../../../../.serverless/\u001b[m\n",
      "\t\u001b[31m../../../../.serverlessrc\u001b[m\n",
      "\t\u001b[31m../../../../.spotify/\u001b[m\n",
      "\t\u001b[31m../../../../.ssh/\u001b[m\n",
      "\t\u001b[31m../../../../.streamlit/\u001b[m\n",
      "\t\u001b[31m../../../../.tcshrc\u001b[m\n",
      "\t\u001b[31m../../../../.viminfo\u001b[m\n",
      "\t\u001b[31m../../../../.vscode/\u001b[m\n",
      "\t\u001b[31m../../../../.wget-hsts\u001b[m\n",
      "\t\u001b[31m../../../../.xonshrc\u001b[m\n",
      "\t\u001b[31m../../../../.zprofile\u001b[m\n",
      "\t\u001b[31m../../../../.zsh_history\u001b[m\n",
      "\t\u001b[31m../../../../.zsh_sessions/\u001b[m\n",
      "\t\u001b[31m../../../../.zshrc\u001b[m\n",
      "\t\u001b[31m../../../../DASH ML/\u001b[m\n",
      "\t\u001b[31m../../../../Dash-Model-Deployment/\u001b[m\n",
      "\t\u001b[31m../../../../Desktop/\u001b[m\n",
      "\t\u001b[31m../../../.DS_Store\u001b[m\n",
      "\t\u001b[31m../../../.localized\u001b[m\n",
      "\t\u001b[31m../../../2021_11_09_134119_create_transactions_table.php\u001b[m\n",
      "\t\u001b[31m../../../2021_11_09_134218_create_pickup_histories_table.php\u001b[m\n",
      "\t\u001b[31m../../../2021_11_09_142020_create_profiles_table.php\u001b[m\n",
      "\t\u001b[31m../../../2021_11_12_211422_create_payment_details_table.php\u001b[m\n",
      "\t\u001b[31m../../../2021_11_25_191459_create_admin_profiles_table.php\u001b[m\n",
      "\t\u001b[31m../../../2021_11_25_193637_create_rider_profiles_table.php\u001b[m\n",
      "\t\u001b[31m../../../2021_11_25_193651_create_company_profiles_table.php\u001b[m\n",
      "\t\u001b[31m../../../2021_11_25_205715_create_delivery_methods_table.php\u001b[m\n",
      "\t\u001b[31m../../../2021_11_25_205839_create_deliveries_table.php\u001b[m\n",
      "\t\u001b[31m../../.DS_Store\u001b[m\n",
      "\t\u001b[31m../../.gitignore\u001b[m\n",
      "\t\u001b[31m../../Dash Rida/\u001b[m\n",
      "\t\u001b[31m../../Dev/\u001b[m\n",
      "\t\u001b[31m../.DS_Store\u001b[m\n",
      "\t\u001b[31m../Computer Vision/\u001b[m\n",
      "\t\u001b[31m../Datasets/\u001b[m\n",
      "\t\u001b[31m../DeepLearning Activation Functions/\u001b[m\n",
      "\t\u001b[31m../Machine Learning Seminar Docs/\u001b[m\n",
      "\t\u001b[31m../Ml Publications/\u001b[m\n",
      "\t\u001b[31m../README.md\u001b[m\n",
      "\t\u001b[31m../SimpooBusiness/\u001b[m\n",
      "\t\u001b[31m../Spotify-Music-Recommender/\u001b[m\n",
      "\t\u001b[31m../Untitled.ipynb\u001b[m\n",
      "\t\u001b[31m../your_first_model_pkl.joblib\u001b[m\n",
      "\t\u001b[31m../your_first_model_pkl.pkl\u001b[m\n",
      "\t\u001b[31m../../composer.json\u001b[m\n",
      "\t\u001b[31m../../composer.lock\u001b[m\n",
      "\t\u001b[31m../../cosmoremit/\u001b[m\n",
      "\t\u001b[31m../../data cleansing.jpg\u001b[m\n",
      "\t\u001b[31m../../image-processing.png\u001b[m\n",
      "\t\u001b[31m../../me.jpg\u001b[m\n",
      "\t\u001b[31m../../../BUSINESS MODEL.pdf\u001b[m\n",
      "\t\u001b[31m../../../Dash PostMan Collections.zip\u001b[m\n",
      "\t\u001b[31m../../../Dash PostMan Collections/\u001b[m\n",
      "\t\u001b[31m../../../Dash Ride.pdf\u001b[m\n",
      "\t\u001b[31m../../../My Cover Letter.docx\u001b[m\n",
      "\t\u001b[31m../../../NewCosmo/\u001b[m\n",
      "\t\u001b[31m../../../Nice/\u001b[m\n",
      "\t\u001b[31m../../../Registration procedure.pdf\u001b[m\n",
      "\t\u001b[31m../../../Tasks yet to be implemented.pdf\u001b[m\n",
      "\t\u001b[31m../../../Tasks.pdf\u001b[m\n",
      "\t\u001b[31m../../../Zoom/\u001b[m\n",
      "\t\u001b[31m../../../intl-tel-input-master/\u001b[m\n",
      "\t\u001b[31m../../../../Downloads/\u001b[m\n",
      "\t\u001b[31m../../../../ETA-PREDICTION-SERVERLESS/\u001b[m\n",
      "\t\u001b[31m../../../../Heart Disease Classification.ipynb\u001b[m\n",
      "\t\u001b[31m../../../../Library/\u001b[m\n",
      "\t\u001b[31m../../../../Movies/\u001b[m\n",
      "\t\u001b[31m../../../../Music/\u001b[m\n",
      "\t\u001b[31m../../../../Pictures/\u001b[m\n",
      "\t\u001b[31m../../../../Pipfile\u001b[m\n",
      "\t\u001b[31m../../../../Public/\u001b[m\n",
      "\t\u001b[31m../../../../Sites/\u001b[m\n",
      "\t\u001b[31m../../../../darknet/\u001b[m\n",
      "\t\u001b[31m../../../../getting-started/\u001b[m\n",
      "\t\u001b[31m../../../../install.sh\u001b[m\n",
      "\t\u001b[31m../../../../nano.save\u001b[m\n",
      "\t\u001b[31m../../../../node_modules/\u001b[m\n",
      "\t\u001b[31m../../../../opt/\u001b[m\n",
      "\t\u001b[31m../../../../package-lock.json\u001b[m\n",
      "\t\u001b[31m../../../../package.json\u001b[m\n",
      "\n"
     ]
    }
   ],
   "source": [
    "!git status"
   ]
  },
  {
   "cell_type": "code",
   "execution_count": 79,
   "id": "3d46445e",
   "metadata": {},
   "outputs": [
    {
     "name": "stdout",
     "output_type": "stream",
     "text": [
      "\u001b[33mhint: Pulling without specifying how to reconcile divergent branches is\u001b[m\r\n",
      "\u001b[33mhint: discouraged. You can squelch this message by running one of the following\u001b[m\r\n",
      "\u001b[33mhint: commands sometime before your next pull:\u001b[m\r\n",
      "\u001b[33mhint: \u001b[m\r\n",
      "\u001b[33mhint:   git config pull.rebase false  # merge (the default strategy)\u001b[m\r\n",
      "\u001b[33mhint:   git config pull.rebase true   # rebase\u001b[m\r\n",
      "\u001b[33mhint:   git config pull.ff only       # fast-forward only\u001b[m\r\n",
      "\u001b[33mhint: \u001b[m\r\n",
      "\u001b[33mhint: You can replace \"git config\" with \"git config --global\" to set a default\u001b[m\r\n",
      "\u001b[33mhint: preference for all repositories. You can also pass --rebase, --no-rebase,\u001b[m\r\n",
      "\u001b[33mhint: or --ff-only on the command line to override the configured default per\u001b[m\r\n",
      "\u001b[33mhint: invocation.\u001b[m\r\n",
      "fatal: 'origin' does not appear to be a git repository\r\n",
      "fatal: Could not read from remote repository.\r\n",
      "\r\n",
      "Please make sure you have the correct access rights\r\n",
      "and the repository exists.\r\n"
     ]
    }
   ],
   "source": [
    "!git pull origin master"
   ]
  },
  {
   "cell_type": "code",
   "execution_count": null,
   "id": "1b3975da",
   "metadata": {},
   "outputs": [],
   "source": []
  }
 ],
 "metadata": {
  "kernelspec": {
   "display_name": "Python 3",
   "language": "python",
   "name": "python3"
  },
  "language_info": {
   "codemirror_mode": {
    "name": "ipython",
    "version": 3
   },
   "file_extension": ".py",
   "mimetype": "text/x-python",
   "name": "python",
   "nbconvert_exporter": "python",
   "pygments_lexer": "ipython3",
   "version": "3.8.8"
  }
 },
 "nbformat": 4,
 "nbformat_minor": 5
}
